{
  "nbformat": 4,
  "nbformat_minor": 0,
  "metadata": {
    "colab": {
      "name": "run.ipynb",
      "provenance": [],
      "collapsed_sections": [],
      "include_colab_link": true
    },
    "kernelspec": {
      "name": "python3",
      "display_name": "Python 3"
    },
    "accelerator": "GPU"
  },
  "cells": [
    {
      "cell_type": "markdown",
      "metadata": {
        "id": "view-in-github",
        "colab_type": "text"
      },
      "source": [
        "<a href=\"https://colab.research.google.com/github/denizmsayin/singan/blob/master/run.ipynb\" target=\"_parent\"><img src=\"https://colab.research.google.com/assets/colab-badge.svg\" alt=\"Open In Colab\"/></a>"
      ]
    },
    {
      "cell_type": "code",
      "metadata": {
        "id": "RPuukm-880dd",
        "colab_type": "code",
        "outputId": "4c838f18-c20f-45ba-c673-b29348634120",
        "colab": {
          "base_uri": "https://localhost:8080/",
          "height": 34
        }
      },
      "source": [
        "import os\n",
        "import subprocess as sp\n",
        "from time import time\n",
        "\n",
        "import numpy as np\n",
        "from PIL import Image\n",
        "import matplotlib.pyplot as plt\n",
        "import torch\n",
        "import torch.nn as nn\n",
        "import torch.nn.functional as F\n",
        "\n",
        "torch.__version__"
      ],
      "execution_count": 1,
      "outputs": [
        {
          "output_type": "execute_result",
          "data": {
            "text/plain": [
              "'1.5.0+cu101'"
            ]
          },
          "metadata": {
            "tags": []
          },
          "execution_count": 1
        }
      ]
    },
    {
      "cell_type": "markdown",
      "metadata": {
        "id": "uhurAwa4KyVJ",
        "colab_type": "text"
      },
      "source": [
        "## Notes\n",
        "- Every generator and critic at every scale has the same architecture, with 5 Conv(3x3)-BN-LReLU layers.\n",
        "- The patch size is given as 11x11, which comes from the receptive field of the 5 layer deep network.\n",
        "- How the number of kernels change is not exactly clear, paper says \"start with 32, double once every 4 scales\"\n",
        "- It is not clear whether the conv layers use padding (zero, reflect?) to preserve size or not. We assume for now that the generators do preserve the size, but it does not seem necessary for the critics.\n",
        "- How the downsampling is done is not clear from the paper. We assume bicubic interpolation.\n",
        "- For the coarsest scale, authors say that \"the effective receptive field at this level is typically∼1/2of the image’s height\". ~~We assume that this means the input size at the coarsest scale is somewhere between 20 and 25 pixels.~~ The authors later state that they use 25 px for the coarsest and 250 pixels for the finest scale along with a rescaling ratio of 4/3. \n",
        "- Lots of training details are given in the supplementary material.\n",
        "- It is not clear "
      ]
    },
    {
      "cell_type": "code",
      "metadata": {
        "id": "6Y9niqk59UT-",
        "colab_type": "code",
        "colab": {}
      },
      "source": [
        "def prepare_bsds300():\n",
        "  if os.path.isdir('BSDS300'):\n",
        "    print('Dataset already downloaded')\n",
        "  else:\n",
        "    sp.call(('wget', 'https://www2.eecs.berkeley.edu/Research/Projects/CS/vision/bsds/BSDS300-images.tgz'))\n",
        "    sp.call(('tar', '-xvzf', 'BSDS300-images.tgz'))\n",
        "    sp.call(('rm', '-f', 'BSDS300-images.tgz'))\n",
        "    print('Downloaded dataset successfully')"
      ],
      "execution_count": 0,
      "outputs": []
    },
    {
      "cell_type": "code",
      "metadata": {
        "id": "f0tqLF1cXOmI",
        "colab_type": "code",
        "colab": {}
      },
      "source": [
        "class Conv2DBlock(nn.Module):\n",
        "  \"\"\" Combine Conv2d-BN-LReLU into a single block \"\"\"\n",
        "  # the 0.2 negative slope is given in the supplementary materials\n",
        "  def __init__(self, in_channels, out_channels, kernel_size, activation, conv_kwargs={}, bn_kwargs={}):\n",
        "    super().__init__()\n",
        "    self.conv = nn.Conv2d(in_channels, out_channels, kernel_size, **conv_kwargs)\n",
        "    self.bn = nn.BatchNorm2d(out_channels, **bn_kwargs)\n",
        "    self.activ = activation\n",
        "\n",
        "  def forward(self, x):\n",
        "    return self.activ(self.bn(self.conv(x)))\n",
        "\n",
        "class SGNet(nn.Module):\n",
        "  def __init__(self, output_channels=3, kernel_count=32, final_activation=nn.Tanh(), final_bn=False, num_blocks=5):\n",
        "    super().__init__()\n",
        "    self.layers = nn.ModuleList()\n",
        "    self.layers.append(nn.ZeroPad2d(num_blocks)) # initial padding, as explained in the SM\n",
        "    in_channels = 3\n",
        "    for _ in range(num_blocks-1): # multiple Conv2D blocks with LeakyReLU\n",
        "      self.layers.append(Conv2DBlock(in_channels, kernel_count, 3, nn.LeakyReLU(negative_slope=0.2)))\n",
        "      in_channels = kernel_count\n",
        "    # the final activation depends on whether this is the generator or critic\n",
        "    if final_bn:\n",
        "      self.layers.append(Conv2DBlock(kernel_count, output_channels, 3, final_activation))\n",
        "    else:\n",
        "      self.layers.append(nn.Conv2d(kernel_count, output_channels, 3))\n",
        "      self.layers.append(final_activation)\n",
        "\n",
        "  def forward(self, x):\n",
        "    for layer in self.layers:\n",
        "      x = layer(x)\n",
        "    return x\n",
        "\n",
        "class Mean(nn.Module):\n",
        "  def __init__(self):\n",
        "    super().__init__()\n",
        "\n",
        "  def forward(self, x):\n",
        "    return torch.mean(x)\n",
        "\n",
        "# [gen1] -> View, crit1 = View + crit1\n",
        "# [gen1, gen2] -> View, crit2 = View + crit2\n",
        "# ...\n",
        "\n",
        "def sample_noise_like(ref_img, device='cpu'):\n",
        "  return torch.from_numpy(np.random.uniform(-1, 1, size=ref_img.shape).astype(ref_img.dtype)).to(device)\n",
        "\n",
        "class MultiScaleSGNetView(nn.Module):\n",
        "  def __init__(self, scales, scaling_factor, noise_sampler):\n",
        "    # scales = [gen1, gen2 ...]\n",
        "    self.scales = scales\n",
        "    self.noise_sampler = noise_sampler\n",
        "    self.scaling_factor = scaling_factor # e.g. 4/3\n",
        "    for g in self.scales[:-1]:\n",
        "      g.requires_grad_(False)\n",
        "\n",
        "  def forward(self, x, z_input=None):\n",
        "    \"\"\"\n",
        "    z_input: either None (noise is generated automatically), \n",
        "             a single tensor (used as input to the coarsest scale)\n",
        "             or a list of tensors (used as input to each scale in asc. order)\n",
        "    \"\"\"\n",
        "    for i, g in enumerate(self.scales):\n",
        "      if z_input is None:\n",
        "        z = self.noise_sampler(x)\n",
        "      elif type(z_input) is list:\n",
        "        z = z_input[i]\n",
        "      else:\n",
        "        z, z_input = z_input, None\n",
        "      x_gen = g(x, z)\n",
        "      x = F.interpolate(x_gen, scaling_factor=self.scaling_factor, mode='nearest')\n",
        "  "
      ],
      "execution_count": 0,
      "outputs": []
    },
    {
      "cell_type": "code",
      "metadata": {
        "id": "5UpI7xyUYJoo",
        "colab_type": "code",
        "outputId": "72bdb752-53f1-4faa-b465-96b33cfb95b9",
        "colab": {
          "base_uri": "https://localhost:8080/",
          "height": 300
        }
      },
      "source": [
        "prepare_bsds300()\n",
        "\n",
        "DS_DIR = 'BSDS300/images/train'\n",
        "EXAMPLE_IDX = 11\n",
        "IMG_LIST = sorted(os.listdir(DS_DIR))\n",
        "EXAMPLE_IMG_PATH = os.path.join(DS_DIR, IMG_LIST[EXAMPLE_IDX])\n",
        "\n",
        "orig_img_uint = np.array(Image.open(EXAMPLE_IMG_PATH).resize((25, 25), Image.BICUBIC))\n",
        "plt.imshow(orig_img_uint)"
      ],
      "execution_count": 3,
      "outputs": [
        {
          "output_type": "stream",
          "text": [
            "Dataset already downloaded\n"
          ],
          "name": "stdout"
        },
        {
          "output_type": "execute_result",
          "data": {
            "text/plain": [
              "<matplotlib.image.AxesImage at 0x7fd6f12fc780>"
            ]
          },
          "metadata": {
            "tags": []
          },
          "execution_count": 3
        },
        {
          "output_type": "display_data",
          "data": {
            "image/png": "[encoded data removed]",
            "text/plain": [
              "<Figure size 432x288 with 1 Axes>"
            ]
          },
          "metadata": {
            "tags": [],
            "needs_background": "light"
          }
        }
      ]
    },
    {
      "cell_type": "code",
      "metadata": {
        "id": "TQbM5wSAgu8z",
        "colab_type": "code",
        "colab": {}
      },
      "source": [
        "# as given in the paper (LR decrease not implemented)\n",
        "LEARNING_RATE = 0.0005\n",
        "BETA_1 = 0.5\n",
        "BETA_2 = 0.999\n",
        "NUM_ITERS = 2000\n",
        "LR_DROP_STEP = 1600\n",
        "LR_DROP_MULT = 0.1\n",
        "GEN_STEP_PER_ITER = 3\n",
        "DIS_STEP_PER_ITER = 3\n",
        "REC_ALPHA = 10.0\n",
        "GP_WEIGHT = 0.1\n",
        "\n",
        "PRINT_EVERY = 50\n",
        "DEVICE = 'cuda'"
      ],
      "execution_count": 0,
      "outputs": []
    },
    {
      "cell_type": "code",
      "metadata": {
        "id": "6cDWoeR6fQtS",
        "colab_type": "code",
        "outputId": "5e5bfe51-de4f-4d3b-cee4-fea695c9d47b",
        "colab": {
          "base_uri": "https://localhost:8080/",
          "height": 1000
        }
      },
      "source": [
        "\n",
        "def img2net(img_uint):\n",
        "  # convert [0, 255] uint8 (H, W, C) to [-1, 1] float32 (1, C, H, W)\n",
        "  rescaled = (img_uint.astype('float32') / 127.5) - 1.0\n",
        "  chw = np.transpose(rescaled, (2, 0, 1))\n",
        "  return torch.from_numpy(np.expand_dims(chw, axis=0)).to(DEVICE)\n",
        "\n",
        "def net2img(img_float):\n",
        "  chw = np.squeeze(img_float.detach().cpu().numpy())\n",
        "  hwc = np.transpose(chw, (1, 2, 0))\n",
        "  return ((hwc + 1.0) * 127.5).astype('uint8')\n",
        "\n",
        "generator = SGNet(output_channels=3, kernel_count=32, final_activation=nn.Tanh()).to(DEVICE)\n",
        "patch_critic = SGNet(output_channels=1, kernel_count=32, final_activation=nn.Identity()).to(DEVICE)\n",
        "critic = torch.nn.Sequential(patch_critic, Mean()).to(DEVICE)\n",
        "print(generator)\n",
        "print(critic)\n",
        "\n",
        "gen_optimizer = torch.optim.Adam(generator.parameters(), LEARNING_RATE, (BETA_1, BETA_2))\n",
        "dis_optimizer = torch.optim.Adam(critic.parameters(), LEARNING_RATE, (BETA_1, BETA_2))\n",
        "\n",
        "gen_sched = torch.optim.lr_scheduler.StepLR(gen_optimizer, LR_DROP_STEP, LR_DROP_MULT)\n",
        "dis_sched = torch.optim.lr_scheduler.StepLR(dis_optimizer, LR_DROP_STEP, LR_DROP_MULT)\n",
        "\n",
        "orig_img = img2net(orig_img_uint)\n",
        "print(orig_img.shape)\n",
        "\n",
        "def sample_noise(): # check this\n",
        "  return torch.from_numpy(np.random.uniform(-1, 1, size=orig_img.shape).astype('float32')).to(DEVICE)\n",
        "  \n",
        "z_rec = sample_noise()\n",
        "mse = nn.MSELoss()\n",
        "\n",
        "for step in range(NUM_ITERS):\n",
        "\n",
        "  # real 1, fake 0\n",
        "\n",
        "  for _ in range(GEN_STEP_PER_ITER):\n",
        "    gen_optimizer.zero_grad()\n",
        "\n",
        "    z = sample_noise()\n",
        "    fake_img = generator(z)\n",
        "\n",
        "    # adversarial loss\n",
        "    adv_loss = -critic(fake_img)\n",
        "\n",
        "    # reconstruction loss\n",
        "    rec_img = generator(z_rec)\n",
        "    # the representation space of the images is not clear in the paper.\n",
        "    # since the reconstruction loss seemed very low to us in the [-1, 1]\n",
        "    # range, we decided to calculate it in the [0, 255] range instead\n",
        "    # EDIT: after checking out their own code, it seems that there is\n",
        "    # no multiplier. however, the reconstruction loss remains too small?\n",
        "    rec_loss = mse(orig_img, rec_img)\n",
        "\n",
        "    gen_loss = adv_loss + REC_ALPHA * rec_loss\n",
        "    gen_loss.backward()\n",
        "    gen_optimizer.step()\n",
        "    gen_sched.step()\n",
        "\n",
        "  for _ in range(DIS_STEP_PER_ITER):\n",
        "    dis_optimizer.zero_grad()\n",
        "\n",
        "    zc = sample_noise()\n",
        "    fake_imgc = generator(zc)\n",
        "    epsilon = np.random.uniform(0, 1)\n",
        "\n",
        "    # adversarial loss\n",
        "    # take a sample from the line between the real and generated images\n",
        "    # for use in the gradient penalty (Impr. Training of WGANs)\n",
        "    grad_sample = epsilon * orig_img + (1 - epsilon) * fake_imgc\n",
        "    f_grad_sample = critic(grad_sample)\n",
        "    grad, = torch.autograd.grad(f_grad_sample, grad_sample, create_graph=True, retain_graph=True)\n",
        "    grad_loss = (torch.norm(grad) - 1)**2\n",
        "\n",
        "    fake_loss = critic(fake_imgc)\n",
        "    real_loss = -critic(orig_img)\n",
        "    adv_loss =  fake_loss + real_loss + GP_WEIGHT * grad_loss\n",
        "    adv_loss.backward()\n",
        "    dis_optimizer.step()\n",
        "    dis_sched.step()\n",
        "\n",
        "  if step % PRINT_EVERY == 0:\n",
        "    print('Step: {}'.format(step))\n",
        "    print('Generator adv: {:.3f}, rec: {:.3f}'.format(adv_loss.data, rec_loss.data))\n",
        "    print('Critic fake: {:.3f} real: {:.3f} grad: {:.3f}'.format(fake_loss.data, real_loss.data, grad_loss.data))\n",
        "    if step != 0:\n",
        "      elapsed = time() - last_print\n",
        "      print('Steps per second: {:.2f}'.format(PRINT_EVERY / elapsed))\n",
        "    plt.imshow(net2img(fake_img))\n",
        "    plt.show()\n",
        "    last_print = time()\n",
        "\n",
        "plt.imshow(net2img(generator(z_rec)))\n",
        "plt.show()\n"
      ],
      "execution_count": 7,
      "outputs": [
        {
          "output_type": "stream",
          "text": [
            "SGNet(\n",
            "  (layers): ModuleList(\n",
            "    (0): ZeroPad2d(padding=(5, 5, 5, 5), value=0.0)\n",
            "    (1): Conv2DBlock(\n",
            "      (conv): Conv2d(3, 32, kernel_size=(3, 3), stride=(1, 1))\n",
            "      (bn): BatchNorm2d(32, eps=1e-05, momentum=0.1, affine=True, track_running_stats=True)\n",
            "      (activ): LeakyReLU(negative_slope=0.2)\n",
            "    )\n",
            "    (2): Conv2DBlock(\n",
            "      (conv): Conv2d(32, 32, kernel_size=(3, 3), stride=(1, 1))\n",
            "      (bn): BatchNorm2d(32, eps=1e-05, momentum=0.1, affine=True, track_running_stats=True)\n",
            "      (activ): LeakyReLU(negative_slope=0.2)\n",
            "    )\n",
            "    (3): Conv2DBlock(\n",
            "      (conv): Conv2d(32, 32, kernel_size=(3, 3), stride=(1, 1))\n",
            "      (bn): BatchNorm2d(32, eps=1e-05, momentum=0.1, affine=True, track_running_stats=True)\n",
            "      (activ): LeakyReLU(negative_slope=0.2)\n",
            "    )\n",
            "    (4): Conv2DBlock(\n",
            "      (conv): Conv2d(32, 32, kernel_size=(3, 3), stride=(1, 1))\n",
            "      (bn): BatchNorm2d(32, eps=1e-05, momentum=0.1, affine=True, track_running_stats=True)\n",
            "      (activ): LeakyReLU(negative_slope=0.2)\n",
            "    )\n",
            "    (5): Conv2d(32, 3, kernel_size=(3, 3), stride=(1, 1))\n",
            "    (6): Tanh()\n",
            "  )\n",
            ")\n",
            "Sequential(\n",
            "  (0): SGNet(\n",
            "    (layers): ModuleList(\n",
            "      (0): ZeroPad2d(padding=(5, 5, 5, 5), value=0.0)\n",
            "      (1): Conv2DBlock(\n",
            "        (conv): Conv2d(3, 32, kernel_size=(3, 3), stride=(1, 1))\n",
            "        (bn): BatchNorm2d(32, eps=1e-05, momentum=0.1, affine=True, track_running_stats=True)\n",
            "        (activ): LeakyReLU(negative_slope=0.2)\n",
            "      )\n",
            "      (2): Conv2DBlock(\n",
            "        (conv): Conv2d(32, 32, kernel_size=(3, 3), stride=(1, 1))\n",
            "        (bn): BatchNorm2d(32, eps=1e-05, momentum=0.1, affine=True, track_running_stats=True)\n",
            "        (activ): LeakyReLU(negative_slope=0.2)\n",
            "      )\n",
            "      (3): Conv2DBlock(\n",
            "        (conv): Conv2d(32, 32, kernel_size=(3, 3), stride=(1, 1))\n",
            "        (bn): BatchNorm2d(32, eps=1e-05, momentum=0.1, affine=True, track_running_stats=True)\n",
            "        (activ): LeakyReLU(negative_slope=0.2)\n",
            "      )\n",
            "      (4): Conv2DBlock(\n",
            "        (conv): Conv2d(32, 32, kernel_size=(3, 3), stride=(1, 1))\n",
            "        (bn): BatchNorm2d(32, eps=1e-05, momentum=0.1, affine=True, track_running_stats=True)\n",
            "        (activ): LeakyReLU(negative_slope=0.2)\n",
            "      )\n",
            "      (5): Conv2d(32, 1, kernel_size=(3, 3), stride=(1, 1))\n",
            "      (6): Identity()\n",
            "    )\n",
            "  )\n",
            "  (1): Mean()\n",
            ")\n",
            "torch.Size([1, 3, 25, 25])\n",
            "Step: 0\n",
            "Generator adv: -0.031, rec: 0.196\n",
            "Critic fake: -0.162 real: 0.042 grad: 0.891\n"
          ],
          "name": "stdout"
        },
        {
          "output_type": "display_data",
          "data": {
            "image/png": "[encoded data removed]",
            "text/plain": [
              "<Figure size 432x288 with 1 Axes>"
            ]
          },
          "metadata": {
            "tags": [],
            "needs_background": "light"
          }
        },
        {
          "output_type": "error",
          "ename": "KeyboardInterrupt",
          "evalue": "ignored",
          "traceback": [
            "\u001b[0;31m---------------------------------------------------------------------------\u001b[0m",
            "\u001b[0;31mKeyboardInterrupt\u001b[0m                         Traceback (most recent call last)",
            "\u001b[0;32m<ipython-input-7-70e5175b9d66>\u001b[0m in \u001b[0;36m<module>\u001b[0;34m()\u001b[0m\n\u001b[1;32m     77\u001b[0m     \u001b[0mreal_loss\u001b[0m \u001b[0;34m=\u001b[0m \u001b[0;34m-\u001b[0m\u001b[0mcritic\u001b[0m\u001b[0;34m(\u001b[0m\u001b[0morig_img\u001b[0m\u001b[0;34m)\u001b[0m\u001b[0;34m\u001b[0m\u001b[0;34m\u001b[0m\u001b[0m\n\u001b[1;32m     78\u001b[0m     \u001b[0madv_loss\u001b[0m \u001b[0;34m=\u001b[0m  \u001b[0mfake_loss\u001b[0m \u001b[0;34m+\u001b[0m \u001b[0mreal_loss\u001b[0m \u001b[0;34m+\u001b[0m \u001b[0mGP_WEIGHT\u001b[0m \u001b[0;34m*\u001b[0m \u001b[0mgrad_loss\u001b[0m\u001b[0;34m\u001b[0m\u001b[0;34m\u001b[0m\u001b[0m\n\u001b[0;32m---> 79\u001b[0;31m     \u001b[0madv_loss\u001b[0m\u001b[0;34m.\u001b[0m\u001b[0mbackward\u001b[0m\u001b[0;34m(\u001b[0m\u001b[0;34m)\u001b[0m\u001b[0;34m\u001b[0m\u001b[0;34m\u001b[0m\u001b[0m\n\u001b[0m\u001b[1;32m     80\u001b[0m     \u001b[0mdis_optimizer\u001b[0m\u001b[0;34m.\u001b[0m\u001b[0mstep\u001b[0m\u001b[0;34m(\u001b[0m\u001b[0;34m)\u001b[0m\u001b[0;34m\u001b[0m\u001b[0;34m\u001b[0m\u001b[0m\n\u001b[1;32m     81\u001b[0m     \u001b[0mdis_sched\u001b[0m\u001b[0;34m.\u001b[0m\u001b[0mstep\u001b[0m\u001b[0;34m(\u001b[0m\u001b[0;34m)\u001b[0m\u001b[0;34m\u001b[0m\u001b[0;34m\u001b[0m\u001b[0m\n",
            "\u001b[0;32m/usr/local/lib/python3.6/dist-packages/torch/tensor.py\u001b[0m in \u001b[0;36mbackward\u001b[0;34m(self, gradient, retain_graph, create_graph)\u001b[0m\n\u001b[1;32m    196\u001b[0m                 \u001b[0mproducts\u001b[0m\u001b[0;34m.\u001b[0m \u001b[0mDefaults\u001b[0m \u001b[0mto\u001b[0m\u001b[0;31m \u001b[0m\u001b[0;31m`\u001b[0m\u001b[0;31m`\u001b[0m\u001b[0;32mFalse\u001b[0m\u001b[0;31m`\u001b[0m\u001b[0;31m`\u001b[0m\u001b[0;34m.\u001b[0m\u001b[0;34m\u001b[0m\u001b[0;34m\u001b[0m\u001b[0m\n\u001b[1;32m    197\u001b[0m         \"\"\"\n\u001b[0;32m--> 198\u001b[0;31m         \u001b[0mtorch\u001b[0m\u001b[0;34m.\u001b[0m\u001b[0mautograd\u001b[0m\u001b[0;34m.\u001b[0m\u001b[0mbackward\u001b[0m\u001b[0;34m(\u001b[0m\u001b[0mself\u001b[0m\u001b[0;34m,\u001b[0m \u001b[0mgradient\u001b[0m\u001b[0;34m,\u001b[0m \u001b[0mretain_graph\u001b[0m\u001b[0;34m,\u001b[0m \u001b[0mcreate_graph\u001b[0m\u001b[0;34m)\u001b[0m\u001b[0;34m\u001b[0m\u001b[0;34m\u001b[0m\u001b[0m\n\u001b[0m\u001b[1;32m    199\u001b[0m \u001b[0;34m\u001b[0m\u001b[0m\n\u001b[1;32m    200\u001b[0m     \u001b[0;32mdef\u001b[0m \u001b[0mregister_hook\u001b[0m\u001b[0;34m(\u001b[0m\u001b[0mself\u001b[0m\u001b[0;34m,\u001b[0m \u001b[0mhook\u001b[0m\u001b[0;34m)\u001b[0m\u001b[0;34m:\u001b[0m\u001b[0;34m\u001b[0m\u001b[0;34m\u001b[0m\u001b[0m\n",
            "\u001b[0;32m/usr/local/lib/python3.6/dist-packages/torch/autograd/__init__.py\u001b[0m in \u001b[0;36mbackward\u001b[0;34m(tensors, grad_tensors, retain_graph, create_graph, grad_variables)\u001b[0m\n\u001b[1;32m     98\u001b[0m     Variable._execution_engine.run_backward(\n\u001b[1;32m     99\u001b[0m         \u001b[0mtensors\u001b[0m\u001b[0;34m,\u001b[0m \u001b[0mgrad_tensors\u001b[0m\u001b[0;34m,\u001b[0m \u001b[0mretain_graph\u001b[0m\u001b[0;34m,\u001b[0m \u001b[0mcreate_graph\u001b[0m\u001b[0;34m,\u001b[0m\u001b[0;34m\u001b[0m\u001b[0;34m\u001b[0m\u001b[0m\n\u001b[0;32m--> 100\u001b[0;31m         allow_unreachable=True)  # allow_unreachable flag\n\u001b[0m\u001b[1;32m    101\u001b[0m \u001b[0;34m\u001b[0m\u001b[0m\n\u001b[1;32m    102\u001b[0m \u001b[0;34m\u001b[0m\u001b[0m\n",
            "\u001b[0;31mKeyboardInterrupt\u001b[0m: "
          ]
        }
      ]
    }
  ]
}