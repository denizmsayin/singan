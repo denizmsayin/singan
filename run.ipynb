{
  "nbformat": 4,
  "nbformat_minor": 0,
  "metadata": {
    "accelerator": "GPU",
    "colab": {
      "name": "run.ipynb",
      "provenance": [],
      "collapsed_sections": [],
      "toc_visible": true
    },
    "kernelspec": {
      "display_name": "Python 3",
      "language": "python",
      "name": "python3"
    },
    "language_info": {
      "codemirror_mode": {
        "name": "ipython",
        "version": 3
      },
      "file_extension": ".py",
      "mimetype": "text/x-python",
      "name": "python",
      "nbconvert_exporter": "python",
      "pygments_lexer": "ipython3",
      "version": "3.7.6"
    }
  },
  "cells": [
    {
      "cell_type": "code",
      "metadata": {
        "colab_type": "code",
        "id": "RPuukm-880dd",
        "colab": {}
      },
      "source": [
        "import os\n",
        "import subprocess as sp\n",
        "from time import time\n",
        "\n",
        "import numpy as np\n",
        "from PIL import Image\n",
        "import matplotlib.pyplot as plt\n",
        "import torch\n",
        "import torch.nn as nn\n",
        "import torch.nn.functional as F\n",
        "\n",
        "from models import *\n",
        "from utils import *"
      ],
      "execution_count": 0,
      "outputs": []
    },
    {
      "cell_type": "markdown",
      "metadata": {
        "colab_type": "text",
        "id": "uhurAwa4KyVJ"
      },
      "source": [
        "## Notes\n",
        "- Every generator and critic at every scale has the same architecture, with 5 Conv(3x3)-BN-LReLU layers.\n",
        "- The patch size is given as 11x11, which comes from the receptive field of the 5 layer deep network.\n",
        "- How the number of kernels change is not exactly clear, paper says \"start with 32, double once every 4 scales\"\n",
        "- It is not clear whether the conv layers use padding (zero, reflect?) to preserve size or not. We assume for now that the generators do preserve the size, but it does not seem necessary for the critics.\n",
        "- How the downsampling is done is not clear from the paper. We assume bicubic interpolation.\n",
        "- For the coarsest scale, authors say that \"the effective receptive field at this level is typically∼1/2of the image’s height\". ~~We assume that this means the input size at the coarsest scale is somewhere between 20 and 25 pixels.~~ The authors later state that they use 25 px for the coarsest and 250 pixels for the finest scale along with a rescaling ratio of 4/3. \n",
        "- Lots of training details are given in the supplementary material.\n",
        "- It is not clear "
      ]
    },
    {
      "cell_type": "code",
      "metadata": {
        "colab_type": "code",
        "id": "6Y9niqk59UT-",
        "colab": {}
      },
      "source": [
        "def prepare_bsds300():\n",
        "  if os.path.isdir('BSDS300'):\n",
        "    print('Dataset already downloaded')\n",
        "  else:\n",
        "    sp.call(('wget', 'https://www2.eecs.berkeley.edu/Research/Projects/CS/vision/bsds/BSDS300-images.tgz'))\n",
        "    sp.call(('tar', '-xzf', 'BSDS300-images.tgz'))\n",
        "    sp.call(('rm', '-f', 'BSDS300-images.tgz'))\n",
        "    print('Downloaded dataset successfully')"
      ],
      "execution_count": 0,
      "outputs": []
    },
    {
      "cell_type": "code",
      "metadata": {
        "colab_type": "code",
        "id": "TQbM5wSAgu8z",
        "colab": {}
      },
      "source": [
        "# as given in the paper\n",
        "LEARNING_RATE = 0.0005\n",
        "BETA_1 = 0.5\n",
        "BETA_2 = 0.999\n",
        "NUM_ITERS = 2000\n",
        "LR_DROP_STEP = 1600\n",
        "LR_DROP_MULT = 0.1\n",
        "GEN_STEP_PER_ITER = 3\n",
        "DIS_STEP_PER_ITER = 3\n",
        "REC_ALPHA = 10.0\n",
        "GP_WEIGHT = 0.1 # paper: 0.1\n",
        "NUM_SCALES = 1\n",
        "SCALING_FACTOR = 4/3\n",
        "INITIAL_KERNEL_COUNT = 32\n",
        "INCREASE_KERNEL_COUNT_EVERY = 4 # SCALES\n",
        "NOISE_BASE_STD = 0.1\n",
        "FIRST_SCALE_NOISE_STD = 1.0\n",
        "START_SIZE = (25, 25)\n",
        "SCALING_MODE = 'bicubic'\n",
        "\n",
        "def conv2d_initializer(conv2d):\n",
        "    #pass\n",
        "    torch.nn.init.normal_(conv2d.weight, 0.0, 0.02)\n",
        "    torch.nn.init.constant_(conv2d.bias, 0.0)\n",
        "\n",
        "def batch_norm_initializer(bn):\n",
        "    #pass\n",
        "    torch.nn.init.normal_(bn.weight, 1.0, 0.02)\n",
        "    torch.nn.init.constant_(bn.bias, 0.0)\n",
        "\n",
        "\n",
        "PRINT_EVERY = 25\n",
        "DEVICE = 'cuda'\n",
        "SEED = 796"
      ],
      "execution_count": 0,
      "outputs": []
    },
    {
      "cell_type": "code",
      "metadata": {
        "colab_type": "code",
        "id": "5UpI7xyUYJoo",
        "outputId": "8723031f-24e8-4e3f-bc03-89bd0cf3a748",
        "colab": {
          "base_uri": "https://localhost:8080/",
          "height": 300
        }
      },
      "source": [
        "prepare_bsds300()\n",
        "\n",
        "DS_DIR = 'BSDS300/images/train'\n",
        "EXAMPLE_IDX = 11\n",
        "IMG_LIST = sorted(os.listdir(DS_DIR))\n",
        "EXAMPLE_IMG_PATH = os.path.join(DS_DIR, IMG_LIST[EXAMPLE_IDX])\n",
        "\n",
        "orig_img_uint = np.array(Image.open(EXAMPLE_IMG_PATH).resize(START_SIZE, Image.BICUBIC))\n",
        "plt.imshow(orig_img_uint)\n",
        "print(EXAMPLE_IMG_PATH)"
      ],
      "execution_count": 4,
      "outputs": [
        {
          "output_type": "stream",
          "text": [
            "Dataset already downloaded\n",
            "BSDS300/images/train/109034.jpg\n"
          ],
          "name": "stdout"
        },
        {
          "output_type": "display_data",
          "data": {
            "text/plain": [
              "<Figure size 432x288 with 1 Axes>"
            ],
            "image/png": "[encoded data removed]"
          },
          "metadata": {
            "tags": [],
            "needs_background": "light"
          }
        }
      ]
    },
    {
      "cell_type": "code",
      "metadata": {
        "id": "MtiPtGz8x5lN",
        "colab_type": "code",
        "colab": {
          "base_uri": "https://localhost:8080/",
          "height": 52
        },
        "outputId": "fcb71d1d-46d4-4a04-b0ca-3069498fd1f5"
      },
      "source": [
        "# seed stuff\n",
        "np.random.seed(SEED)\n",
        "torch.manual_seed(SEED)\n",
        "\n",
        "# create the scaled images\n",
        "original_image = np_image_to_normed_tensor(orig_img_uint).to(DEVICE)\n",
        "scaled_original_images, exact_scale_sizes = create_scale_pyramid(original_image, 1/SCALING_FACTOR, NUM_SCALES, SCALING_MODE)\n",
        "scaled_original_images, exact_scale_sizes = scaled_original_images[::-1], exact_scale_sizes[::-1]  # reverse since we start from coarsest\n",
        "coarsest_exact_size = exact_scale_sizes[0]\n",
        "print(exact_scale_sizes)\n",
        "print([q.shape for q in scaled_original_images])\n",
        "\n",
        "# initialize the constant noise used in reconstruction\n",
        "z_rec_coarsest = FIRST_SCALE_NOISE_STD * torch.randn_like(scaled_original_images[0], device=DEVICE)\n",
        "z_rec = [z_rec_coarsest] # a zero tensor is appended after each scale\n",
        "\n",
        "# constant zero input for the coarsest scale during training\n",
        "coarsest_zero_input = torch.zeros_like(z_rec_coarsest)\n",
        "\n",
        "def init_net(net, prev_nets, architecture_changed):\n",
        "  # if possible, initialize with weights from the lower layer\n",
        "  if prev_nets and not architecture_changed:\n",
        "    net.load_state_dict(prev_nets[-1].state_dict())\n",
        "  # set train mode & add to list\n",
        "  net.train()\n",
        "  prev_nets.append(scale_generator)\n"
      ],
      "execution_count": 5,
      "outputs": [
        {
          "output_type": "stream",
          "text": [
            "[(25.0, 25.0)]\n",
            "[torch.Size([1, 3, 25, 25])]\n"
          ],
          "name": "stdout"
        }
      ]
    },
    {
      "cell_type": "code",
      "metadata": {
        "colab_type": "code",
        "id": "6cDWoeR6fQtS",
        "outputId": "80de8572-2a29-49d1-aa5d-df59bcbabf47",
        "colab": {
          "base_uri": "https://localhost:8080/",
          "height": 1000
        }
      },
      "source": [
        "\n",
        "# loop values\n",
        "kernel_count = INITIAL_KERNEL_COUNT\n",
        "generators, critics, noise_samplers = [], [], []\n",
        "gen_losses, crit_losses = [], []\n",
        "rmse = 1 # initial noise multiplier\n",
        "for scale_index in range(NUM_SCALES):\n",
        "  print('****************************\\nScale {}'.format(scale_index))\n",
        "\n",
        "\n",
        "  # get the original image at the necessary scale for reconstruction\n",
        "  scale_orig_img = scaled_original_images[scale_index]\n",
        "\n",
        "  # if a previous generator exists, use RMSE to determine\n",
        "  # the standard deviation of the input noise\n",
        "  if scale_index > 0:\n",
        "    reconstruction = generator(coarsest_zero_input, coarsest_exact_size, z_rec)\n",
        "    scaled_reconstruction = exact_interpolate(reconstruction, exact_scale_sizes[scale_index-1], SCALING_FACTOR, SCALING_MODE)\n",
        "    rmse = F.mse_loss(scaled_reconstruction, scale_orig_img).item()\n",
        "\n",
        "  # create the noise sampler based on the RMSE\n",
        "  # BUG: same noise_sampler is used for every scale, oof!\n",
        "  scale_noise_std = FIRST_SCALE_NOISE_STD if scale_index == 0 else rmse * NOISE_BASE_STD\n",
        "  scale_noise_sampler = lambda x: scale_noise_std * torch.randn_like(x, device=DEVICE)\n",
        "  noise_samplers.append(scale_noise_sampler)\n",
        "  print('RMSE: {:.2f}'.format(rmse))\n",
        "\n",
        "  # renew architectures if it is time to change kernel sizes\n",
        "  architecture_changed = False\n",
        "  if scale_index != 0 and scale_index % INCREASE_KERNEL_COUNT_EVERY == 0:\n",
        "    kernel_count *= 2\n",
        "    architecture_changed = True\n",
        "\n",
        "  ## initialize the generator\n",
        "  # create a generator for this specific scale and initialize it\n",
        "  scale_generator = SGNet(output_channels=3, kernel_count=kernel_count, final_activation=nn.Tanh(), \n",
        "                          conv_init=conv2d_initializer, bn_init=batch_norm_initializer).to(DEVICE)\n",
        "  init_net(scale_generator, generators, architecture_changed)\n",
        "  # create a single generator view from the stack of generators\n",
        "  generator = MultiScaleSGNetView(generators, SCALING_FACTOR, noise_samplers)\n",
        "\n",
        "  ## initialize the critic (discriminator)\n",
        "  # the authors recommend initializing the discriminator using the weights of\n",
        "  # the previous one unless the number of kernels is changed\n",
        "  critic = SGNet(output_channels=1, kernel_count=kernel_count, final_activation=None, \n",
        "                 conv_init=conv2d_initializer, bn_init=batch_norm_initializer).to(DEVICE) # patch critic\n",
        "  init_net(critic, critics, architecture_changed)\n",
        "  \n",
        "  # weight of gen0 to ensure it is not trained\n",
        "  print('Norm sums:')\n",
        "  for i, gen in enumerate(generators):\n",
        "    wbs = get_weights_and_biases(gen)\n",
        "    norm = torch.tensor([torch.norm(x) for x in wbs]).sum().item()\n",
        "    print('Gen-{} norm: {:.2f}'.format(i, norm))\n",
        "  print('Critic norm: {:.2f}'.format(torch.tensor([torch.norm(x) for x in get_weights_and_biases(critic)]).sum().item()))\n",
        "\n",
        "  # re-create the optimizers and schedulers\n",
        "  gen_optimizer = torch.optim.Adam(generator.parameters(), LEARNING_RATE, (BETA_1, BETA_2))\n",
        "  gen_sched = torch.optim.lr_scheduler.StepLR(gen_optimizer, LR_DROP_STEP, LR_DROP_MULT)\n",
        "\n",
        "  crit_optimizer = torch.optim.Adam(critic.parameters(), LEARNING_RATE, (BETA_1, BETA_2))\n",
        "  crit_sched = torch.optim.lr_scheduler.StepLR(crit_optimizer, LR_DROP_STEP, LR_DROP_MULT)\n",
        "\n",
        "  # add a zero tensor to the reconstruction noise list\n",
        "  # since it is defined as [z*, 0, 0, 0...] for some z*\n",
        "  if scale_index != 0:\n",
        "    z_rec.append(torch.zeros_like(scale_orig_img))\n",
        "\n",
        "  # perform training\n",
        "\n",
        "  print('Start')\n",
        "  fake_img = generator(coarsest_zero_input, coarsest_exact_size)\n",
        "  plt.imshow(normed_tensor_to_np_image(fake_img))\n",
        "  plt.show()\n",
        "\n",
        "  for step in range(NUM_ITERS):\n",
        "\n",
        "    for _ in range(DIS_STEP_PER_ITER):\n",
        "      crit_optimizer.zero_grad()\n",
        "\n",
        "\n",
        "      # adversarial loss\n",
        "      # take a sample from the line between the real and generated images\n",
        "      # for use in the gradient penalty (Impr. Training of WGANs)\n",
        "\n",
        "      # another thing that is not very clear is the WGAN-GP loss in this context.\n",
        "      # In the case of a scalar discr. output, what should be done is simply\n",
        "      # norm the gradient (image-shaped) across the channel axis, and take \n",
        "      # the mean across all pixels.\n",
        "      # In this case, the output of the critic (discr) is an image (PatchGAN).\n",
        "      # If we take its mean to obtain a scalar and then apply the same approach\n",
        "      # as the scalar output discr., it seems to supress the penalty twice \n",
        "      # (as if the mean was applied twice). Instead, taking the sum of the\n",
        "      # output allows us to apply the mean only once, which we believe is the\n",
        "      # proper normalization.\n",
        "\n",
        "      epsilon = np.random.uniform(0, 1)\n",
        "      fake_img = generator(coarsest_zero_input, coarsest_exact_size)\n",
        "      grad_sample = epsilon * scale_orig_img + (1 - epsilon) * fake_img\n",
        "      f_grad_sample = critic(grad_sample).sum()\n",
        "      grad, = torch.autograd.grad(f_grad_sample, grad_sample, create_graph=True, retain_graph=True)\n",
        "      grad_loss = ((torch.norm(grad, 2, dim=1) - 1)**2).mean() # mean over batch\n",
        "\n",
        "      # calculate the f losses and sum up\n",
        "      fake_loss = critic(fake_img).mean()\n",
        "      real_loss = -critic(scale_orig_img).mean()\n",
        "      crit_loss =  fake_loss + real_loss + GP_WEIGHT * grad_loss # TODO: are signs of fake and real loss correct? \n",
        "      \n",
        "      # optimize\n",
        "      crit_loss.backward()\n",
        "      crit_optimizer.step()\n",
        "      crit_sched.step()\n",
        "      crit_losses.append(crit_loss.item())\n",
        "\n",
        "    for _ in range(GEN_STEP_PER_ITER):\n",
        "      gen_optimizer.zero_grad()\n",
        "\n",
        "      # always provide zero input to the coarsest scale\n",
        "      # the model handles noise sampling on its own\n",
        "      fake_img = generator(coarsest_zero_input, coarsest_exact_size)\n",
        "\n",
        "      # adversarial loss\n",
        "      adv_loss = -critic(fake_img).mean()\n",
        "\n",
        "      # reconstruction loss\n",
        "      rec_img = generator(coarsest_zero_input, coarsest_exact_size, z_rec)\n",
        "      rec_loss = F.mse_loss(scale_orig_img, rec_img)\n",
        "\n",
        "      # total loss & optimization\n",
        "      gen_loss = adv_loss + REC_ALPHA * rec_loss\n",
        "      gen_loss.backward()\n",
        "      gen_optimizer.step()\n",
        "      gen_sched.step()\n",
        "      gen_losses.append(gen_loss.item())\n",
        "\n",
        "    if step % PRINT_EVERY == 0:\n",
        "      print('Step: {}'.format(step))\n",
        "      print('Generator adv: {:.3f}, rec: {:.3f}'.format(adv_loss.item(), rec_loss.item()))\n",
        "      print('Critic fake: {:.3f} real: {:.3f} grad: {:.3f}'.format(fake_loss.item(), real_loss.item(), grad_loss.item()))\n",
        "      if step != 0:\n",
        "        elapsed = time() - last_print\n",
        "        print('Steps per second: {:.2f}'.format(PRINT_EVERY / elapsed))\n",
        "      plt.imshow(normed_tensor_to_np_image(fake_img))\n",
        "      plt.show()\n",
        "      last_print = time()\n",
        "\n",
        "  print('Reconstruction:')\n",
        "  plt.imshow(normed_tensor_to_np_image(generator(generator_zero_input, z_rec)))\n",
        "  plt.show()\n"
      ],
      "execution_count": 10,
      "outputs": [
        {
          "output_type": "stream",
          "text": [
            "****************************\n",
            "Scale 0\n",
            "RMSE: 1.00\n",
            "Norm sums:\n",
            "Gen-0 norm: 29.53\n",
            "Critic norm: 29.35\n",
            "Start\n"
          ],
          "name": "stdout"
        },
        {
          "output_type": "display_data",
          "data": {
            "text/plain": [
              "<Figure size 432x288 with 1 Axes>"
            ],
            "image/png": "[encoded data removed]"
          },
          "metadata": {
            "tags": [],
            "needs_background": "light"
          }
        },
        {
          "output_type": "stream",
          "text": [
            "Step: 0\n",
            "Generator adv: -0.076, rec: 0.147\n",
            "Critic fake: 0.044 real: -0.208 grad: 0.245\n"
          ],
          "name": "stdout"
        },
        {
          "output_type": "display_data",
          "data": {
            "text/plain": [
              "<Figure size 432x288 with 1 Axes>"
            ],
            "image/png": "[encoded data removed]"
          },
          "metadata": {
            "tags": [],
            "needs_background": "light"
          }
        },
        {
          "output_type": "stream",
          "text": [
            "Step: 25\n",
            "Generator adv: 0.249, rec: 0.004\n",
            "Critic fake: -0.267 real: -0.182 grad: 1.632\n",
            "Steps per second: 9.01\n"
          ],
          "name": "stdout"
        },
        {
          "output_type": "display_data",
          "data": {
            "text/plain": [
              "<Figure size 432x288 with 1 Axes>"
            ],
            "image/png": "[encoded data removed]"
          },
          "metadata": {
            "tags": [],
            "needs_background": "light"
          }
        },
        {
          "output_type": "stream",
          "text": [
            "Step: 50\n",
            "Generator adv: 0.240, rec: 0.003\n",
            "Critic fake: -0.130 real: -0.503 grad: 1.976\n",
            "Steps per second: 10.45\n"
          ],
          "name": "stdout"
        },
        {
          "output_type": "display_data",
          "data": {
            "text/plain": [
              "<Figure size 432x288 with 1 Axes>"
            ],
            "image/png": "[encoded data removed]"
          },
          "metadata": {
            "tags": [],
            "needs_background": "light"
          }
        },
        {
          "output_type": "stream",
          "text": [
            "Step: 75\n",
            "Generator adv: 0.142, rec: 0.003\n",
            "Critic fake: -0.213 real: -0.497 grad: 2.366\n",
            "Steps per second: 11.99\n"
          ],
          "name": "stdout"
        },
        {
          "output_type": "display_data",
          "data": {
            "text/plain": [
              "<Figure size 432x288 with 1 Axes>"
            ],
            "image/png": "[encoded data removed]"
          },
          "metadata": {
            "tags": [],
            "needs_background": "light"
          }
        },
        {
          "output_type": "stream",
          "text": [
            "Step: 100\n",
            "Generator adv: 0.056, rec: 0.006\n",
            "Critic fake: -0.084 real: -0.611 grad: 1.549\n",
            "Steps per second: 9.81\n"
          ],
          "name": "stdout"
        },
        {
          "output_type": "display_data",
          "data": {
            "text/plain": [
              "<Figure size 432x288 with 1 Axes>"
            ],
            "image/png": "[encoded data removed]"
          },
          "metadata": {
            "tags": [],
            "needs_background": "light"
          }
        },
        {
          "output_type": "stream",
          "text": [
            "Step: 125\n",
            "Generator adv: 0.381, rec: 0.003\n",
            "Critic fake: -0.495 real: -0.474 grad: 7.682\n",
            "Steps per second: 10.06\n"
          ],
          "name": "stdout"
        },
        {
          "output_type": "display_data",
          "data": {
            "text/plain": [
              "<Figure size 432x288 with 1 Axes>"
            ],
            "image/png": "[encoded data removed]"
          },
          "metadata": {
            "tags": [],
            "needs_background": "light"
          }
        },
        {
          "output_type": "stream",
          "text": [
            "Step: 150\n",
            "Generator adv: 0.182, rec: 0.003\n",
            "Critic fake: -0.319 real: -0.637 grad: 3.262\n",
            "Steps per second: 9.77\n"
          ],
          "name": "stdout"
        },
        {
          "output_type": "display_data",
          "data": {
            "text/plain": [
              "<Figure size 432x288 with 1 Axes>"
            ],
            "image/png": "[encoded data removed]"
          },
          "metadata": {
            "tags": [],
            "needs_background": "light"
          }
        },
        {
          "output_type": "error",
          "ename": "KeyboardInterrupt",
          "evalue": "ignored",
          "traceback": [
            "\u001b[0;31m---------------------------------------------------------------------------\u001b[0m",
            "\u001b[0;31mKeyboardInterrupt\u001b[0m                         Traceback (most recent call last)",
            "\u001b[0;32m<ipython-input-10-41a57cf51eaa>\u001b[0m in \u001b[0;36m<module>\u001b[0;34m\u001b[0m\n\u001b[1;32m    107\u001b[0m \u001b[0;34m\u001b[0m\u001b[0m\n\u001b[1;32m    108\u001b[0m       \u001b[0;31m# optimize\u001b[0m\u001b[0;34m\u001b[0m\u001b[0;34m\u001b[0m\u001b[0;34m\u001b[0m\u001b[0m\n\u001b[0;32m--> 109\u001b[0;31m       \u001b[0mcrit_loss\u001b[0m\u001b[0;34m.\u001b[0m\u001b[0mbackward\u001b[0m\u001b[0;34m(\u001b[0m\u001b[0;34m)\u001b[0m\u001b[0;34m\u001b[0m\u001b[0;34m\u001b[0m\u001b[0m\n\u001b[0m\u001b[1;32m    110\u001b[0m       \u001b[0mcrit_optimizer\u001b[0m\u001b[0;34m.\u001b[0m\u001b[0mstep\u001b[0m\u001b[0;34m(\u001b[0m\u001b[0;34m)\u001b[0m\u001b[0;34m\u001b[0m\u001b[0;34m\u001b[0m\u001b[0m\n\u001b[1;32m    111\u001b[0m       \u001b[0mcrit_sched\u001b[0m\u001b[0;34m.\u001b[0m\u001b[0mstep\u001b[0m\u001b[0;34m(\u001b[0m\u001b[0;34m)\u001b[0m\u001b[0;34m\u001b[0m\u001b[0;34m\u001b[0m\u001b[0m\n",
            "\u001b[0;32m~/anaconda3/envs/torchenv/lib/python3.7/site-packages/torch/tensor.py\u001b[0m in \u001b[0;36mbackward\u001b[0;34m(self, gradient, retain_graph, create_graph)\u001b[0m\n\u001b[1;32m    193\u001b[0m                 \u001b[0mproducts\u001b[0m\u001b[0;34m.\u001b[0m \u001b[0mDefaults\u001b[0m \u001b[0mto\u001b[0m\u001b[0;31m \u001b[0m\u001b[0;31m`\u001b[0m\u001b[0;31m`\u001b[0m\u001b[0;32mFalse\u001b[0m\u001b[0;31m`\u001b[0m\u001b[0;31m`\u001b[0m\u001b[0;34m.\u001b[0m\u001b[0;34m\u001b[0m\u001b[0;34m\u001b[0m\u001b[0m\n\u001b[1;32m    194\u001b[0m         \"\"\"\n\u001b[0;32m--> 195\u001b[0;31m         \u001b[0mtorch\u001b[0m\u001b[0;34m.\u001b[0m\u001b[0mautograd\u001b[0m\u001b[0;34m.\u001b[0m\u001b[0mbackward\u001b[0m\u001b[0;34m(\u001b[0m\u001b[0mself\u001b[0m\u001b[0;34m,\u001b[0m \u001b[0mgradient\u001b[0m\u001b[0;34m,\u001b[0m \u001b[0mretain_graph\u001b[0m\u001b[0;34m,\u001b[0m \u001b[0mcreate_graph\u001b[0m\u001b[0;34m)\u001b[0m\u001b[0;34m\u001b[0m\u001b[0;34m\u001b[0m\u001b[0m\n\u001b[0m\u001b[1;32m    196\u001b[0m \u001b[0;34m\u001b[0m\u001b[0m\n\u001b[1;32m    197\u001b[0m     \u001b[0;32mdef\u001b[0m \u001b[0mregister_hook\u001b[0m\u001b[0;34m(\u001b[0m\u001b[0mself\u001b[0m\u001b[0;34m,\u001b[0m \u001b[0mhook\u001b[0m\u001b[0;34m)\u001b[0m\u001b[0;34m:\u001b[0m\u001b[0;34m\u001b[0m\u001b[0;34m\u001b[0m\u001b[0m\n",
            "\u001b[0;32m~/anaconda3/envs/torchenv/lib/python3.7/site-packages/torch/autograd/__init__.py\u001b[0m in \u001b[0;36mbackward\u001b[0;34m(tensors, grad_tensors, retain_graph, create_graph, grad_variables)\u001b[0m\n\u001b[1;32m     97\u001b[0m     Variable._execution_engine.run_backward(\n\u001b[1;32m     98\u001b[0m         \u001b[0mtensors\u001b[0m\u001b[0;34m,\u001b[0m \u001b[0mgrad_tensors\u001b[0m\u001b[0;34m,\u001b[0m \u001b[0mretain_graph\u001b[0m\u001b[0;34m,\u001b[0m \u001b[0mcreate_graph\u001b[0m\u001b[0;34m,\u001b[0m\u001b[0;34m\u001b[0m\u001b[0;34m\u001b[0m\u001b[0m\n\u001b[0;32m---> 99\u001b[0;31m         allow_unreachable=True)  # allow_unreachable flag\n\u001b[0m\u001b[1;32m    100\u001b[0m \u001b[0;34m\u001b[0m\u001b[0m\n\u001b[1;32m    101\u001b[0m \u001b[0;34m\u001b[0m\u001b[0m\n",
            "\u001b[0;31mKeyboardInterrupt\u001b[0m: "
          ]
        }
      ]
    },
    {
      "cell_type": "code",
      "metadata": {
        "id": "cmWgUiywx37X",
        "colab_type": "code",
        "colab": {}
      },
      "source": [
        ""
      ],
      "execution_count": 0,
      "outputs": []
    },
    {
      "cell_type": "code",
      "metadata": {
        "colab_type": "code",
        "id": "Yau90mTBW0oU",
        "colab": {}
      },
      "source": [
        "plt.plot(crit_losses)\n",
        "plt.show()"
      ],
      "execution_count": 0,
      "outputs": []
    },
    {
      "cell_type": "code",
      "metadata": {
        "colab_type": "code",
        "id": "9jvvjje_WoUX",
        "colab": {}
      },
      "source": [
        "!nvidia-smi"
      ],
      "execution_count": 0,
      "outputs": []
    },
    {
      "cell_type": "code",
      "metadata": {
        "colab_type": "code",
        "id": "zenvyZsfjCRm",
        "colab": {}
      },
      "source": [
        "print(SGNet(output_channels=1, kernel_count=kernel_count, final_activation=nn.Identity()).to(DEVICE)(torch.ones(1, 3, 5, 5).cuda()))"
      ],
      "execution_count": 0,
      "outputs": []
    }
  ]
}